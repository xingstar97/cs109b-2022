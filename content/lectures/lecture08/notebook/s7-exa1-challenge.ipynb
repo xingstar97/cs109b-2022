{
 "cells": [
  {
   "cell_type": "markdown",
   "metadata": {},
   "source": [
    "## Title :\n",
    "Exercise: Build a Single Neuron by Hand\n",
    "\n",
    "## Description :\n",
    "The goal of this exercise is to predict the probability of a person having heart disease given their max heart rate using a **single neuron**.\n",
    "\n",
    "<img src=\"../fig/fig1.png\" style=\"width: 500px;\">\n",
    "\n",
    "## Instructions:\n",
    "\n",
    "- Read the datafile Heart.csv as a pandas dataframe.\n",
    "- Use the maximum heart rate as your predictor and probability of a person having heart disease as your response variable.\n",
    "- Plot the data by replacing the column values i.e. 'Yes' and 'No' of the response variables with 1 and 0 respectively. The graph will look like the one given below.\n",
    "- Construct a perceptron. This will need 3 functions:\n",
    "    - The first function should return an **affine** transformation of the data for a single neuron.  \n",
    "    - The second function should return the sigmoid **activation** function. \n",
    "    - We'll use the previous two functions to create a **predict** function to output predictions from our perceptron (aka neuron).\n",
    "- After making predictions using the perceptron we will plot our results.\n",
    "\n",
    "<img src=\"../fig/fig2.png\" style=\"width: 500px;\">\n",
    "\n",
    "## Hints: \n",
    "\n",
    "- Remember you will need to tune the perceptron's parameters by hand. The following selections from the lecture may be helpful. \n",
    "\n",
    "(Note: $\\beta_0$  and $\\beta_1$ in the slides are referred to as `b` and `w` in the code)\n",
    "\n",
    "<img src=\"../fig/fig3.png\" style=\"width: 500px;\">\n",
    "\n",
    "<img src=\"../fig/fig4.png\" style=\"width: 500px;\">\n",
    "\n",
    "\n",
    "<a href=\"https://matplotlib.org/3.3.1/api/_as_gen/matplotlib.pyplot.scatter.html\" target=\"_blank\">plt.scatter()</a>\n",
    "A scatter plot of y vs. x with varying marker size and/or colour.\n",
    "\n",
    "<a href=\"https://numpy.org/doc/stable/reference/generated/numpy.exp.html\" target=\"_blank\">np.exp()</a>\n",
    "Calculates the exponential of all elements in the input array.\n",
    "\n",
    "<a href=\"https://matplotlib.org/3.2.2/api/_as_gen/matplotlib.pyplot.xlabel.html\" target=\"_blank\">plt.xlabel()</a>\n",
    "This is used to specify the text to be displayed as the label for the x-axis.\n",
    "\n",
    "<a href=\"https://matplotlib.org/3.1.1/api/_as_gen/matplotlib.pyplot.ylabel.html\" target=\"_blank\">plt.ylabel()</a>\n",
    "This is used to specify the text to be displayed as the label for the y-axis.\n",
    "\n",
    "<a href=\"https://pandas.pydata.org/pandas-docs/stable/reference/api/pandas.DataFrame.replace.html?highlight=replace\" target=\"_blank\">pd.replace(from, to)</a>\n",
    "Replace values given in from with to.\n",
    "\n",
    "\n",
    "**Note: This exercise is auto-graded and you can try multiple attempts**"
   ]
  },
  {
   "cell_type": "code",
   "execution_count": 1,
   "metadata": {},
   "outputs": [],
   "source": [
    "# Import necessary libraries\n",
    "import numpy as np\n",
    "import pandas as pd\n",
    "import matplotlib.pyplot as plt\n",
    "%matplotlib inline\n"
   ]
  },
  {
   "cell_type": "code",
   "execution_count": 2,
   "metadata": {},
   "outputs": [
    {
     "data": {
      "text/html": [
       "<div>\n",
       "<style scoped>\n",
       "    .dataframe tbody tr th:only-of-type {\n",
       "        vertical-align: middle;\n",
       "    }\n",
       "\n",
       "    .dataframe tbody tr th {\n",
       "        vertical-align: top;\n",
       "    }\n",
       "\n",
       "    .dataframe thead th {\n",
       "        text-align: right;\n",
       "    }\n",
       "</style>\n",
       "<table border=\"1\" class=\"dataframe\">\n",
       "  <thead>\n",
       "    <tr style=\"text-align: right;\">\n",
       "      <th></th>\n",
       "      <th>Age</th>\n",
       "      <th>Sex</th>\n",
       "      <th>ChestPain</th>\n",
       "      <th>RestBP</th>\n",
       "      <th>Chol</th>\n",
       "      <th>Fbs</th>\n",
       "      <th>RestECG</th>\n",
       "      <th>MaxHR</th>\n",
       "      <th>ExAng</th>\n",
       "      <th>Oldpeak</th>\n",
       "      <th>Slope</th>\n",
       "      <th>Ca</th>\n",
       "      <th>Thal</th>\n",
       "      <th>AHD</th>\n",
       "    </tr>\n",
       "  </thead>\n",
       "  <tbody>\n",
       "    <tr>\n",
       "      <th>1</th>\n",
       "      <td>63</td>\n",
       "      <td>1</td>\n",
       "      <td>typical</td>\n",
       "      <td>145</td>\n",
       "      <td>233</td>\n",
       "      <td>1</td>\n",
       "      <td>2</td>\n",
       "      <td>150</td>\n",
       "      <td>0</td>\n",
       "      <td>2.3</td>\n",
       "      <td>3</td>\n",
       "      <td>0.0</td>\n",
       "      <td>fixed</td>\n",
       "      <td>No</td>\n",
       "    </tr>\n",
       "    <tr>\n",
       "      <th>2</th>\n",
       "      <td>67</td>\n",
       "      <td>1</td>\n",
       "      <td>asymptomatic</td>\n",
       "      <td>160</td>\n",
       "      <td>286</td>\n",
       "      <td>0</td>\n",
       "      <td>2</td>\n",
       "      <td>108</td>\n",
       "      <td>1</td>\n",
       "      <td>1.5</td>\n",
       "      <td>2</td>\n",
       "      <td>3.0</td>\n",
       "      <td>normal</td>\n",
       "      <td>Yes</td>\n",
       "    </tr>\n",
       "    <tr>\n",
       "      <th>3</th>\n",
       "      <td>67</td>\n",
       "      <td>1</td>\n",
       "      <td>asymptomatic</td>\n",
       "      <td>120</td>\n",
       "      <td>229</td>\n",
       "      <td>0</td>\n",
       "      <td>2</td>\n",
       "      <td>129</td>\n",
       "      <td>1</td>\n",
       "      <td>2.6</td>\n",
       "      <td>2</td>\n",
       "      <td>2.0</td>\n",
       "      <td>reversable</td>\n",
       "      <td>Yes</td>\n",
       "    </tr>\n",
       "    <tr>\n",
       "      <th>4</th>\n",
       "      <td>37</td>\n",
       "      <td>1</td>\n",
       "      <td>nonanginal</td>\n",
       "      <td>130</td>\n",
       "      <td>250</td>\n",
       "      <td>0</td>\n",
       "      <td>0</td>\n",
       "      <td>187</td>\n",
       "      <td>0</td>\n",
       "      <td>3.5</td>\n",
       "      <td>3</td>\n",
       "      <td>0.0</td>\n",
       "      <td>normal</td>\n",
       "      <td>No</td>\n",
       "    </tr>\n",
       "    <tr>\n",
       "      <th>5</th>\n",
       "      <td>41</td>\n",
       "      <td>0</td>\n",
       "      <td>nontypical</td>\n",
       "      <td>130</td>\n",
       "      <td>204</td>\n",
       "      <td>0</td>\n",
       "      <td>2</td>\n",
       "      <td>172</td>\n",
       "      <td>0</td>\n",
       "      <td>1.4</td>\n",
       "      <td>1</td>\n",
       "      <td>0.0</td>\n",
       "      <td>normal</td>\n",
       "      <td>No</td>\n",
       "    </tr>\n",
       "  </tbody>\n",
       "</table>\n",
       "</div>"
      ],
      "text/plain": [
       "   Age  Sex     ChestPain  RestBP  Chol  Fbs  RestECG  MaxHR  ExAng  Oldpeak  \\\n",
       "1   63    1       typical     145   233    1        2    150      0      2.3   \n",
       "2   67    1  asymptomatic     160   286    0        2    108      1      1.5   \n",
       "3   67    1  asymptomatic     120   229    0        2    129      1      2.6   \n",
       "4   37    1    nonanginal     130   250    0        0    187      0      3.5   \n",
       "5   41    0    nontypical     130   204    0        2    172      0      1.4   \n",
       "\n",
       "   Slope   Ca        Thal  AHD  \n",
       "1      3  0.0       fixed   No  \n",
       "2      2  3.0      normal  Yes  \n",
       "3      2  2.0  reversable  Yes  \n",
       "4      3  0.0      normal   No  \n",
       "5      1  0.0      normal   No  "
      ]
     },
     "execution_count": 2,
     "metadata": {},
     "output_type": "execute_result"
    }
   ],
   "source": [
    "# Read the dataset\n",
    "heart_data = pd.read_csv('../data/Heart.csv', index_col=0)\n",
    "\n",
    "# Take a quick look at the dataframe\n",
    "heart_data.head()\n"
   ]
  },
  {
   "cell_type": "code",
   "execution_count": 6,
   "metadata": {},
   "outputs": [],
   "source": [
    "# Assign Max Heart Rate as the predictor\n",
    "x = heart_data.MaxHR.values\n",
    "\n",
    "# Assign AHD as the response variable\n",
    "# Replace the string column values to 0 and 1\n",
    "y = heart_data.AHD.values==\"Yes\"\n"
   ]
  },
  {
   "cell_type": "code",
   "execution_count": 9,
   "metadata": {},
   "outputs": [
    {
     "name": "stderr",
     "output_type": "stream",
     "text": [
      "No artists with labels found to put in legend.  Note that artists whose label start with an underscore are ignored when legend() is called with no argument.\n"
     ]
    },
    {
     "data": {
      "text/plain": [
       "<matplotlib.legend.Legend at 0x7fc18113cc10>"
      ]
     },
     "execution_count": 9,
     "metadata": {},
     "output_type": "execute_result"
    },
    {
     "data": {
      "image/png": "[encoded data removed]",
      "text/plain": [
       "<Figure size 640x480 with 1 Axes>"
      ]
     },
     "metadata": {},
     "output_type": "display_data"
    }
   ],
   "source": [
    "# Plot the predictor and reponse vairables as a scatter plot \n",
    "# with appropriate axes label\n",
    "plt.scatter(x, y)\n",
    "plt.xlabel(\"Max heart rate\")\n",
    "plt.ylabel(\"AHD\")\n",
    "plt.legend(loc='best')\n"
   ]
  },
  {
   "cell_type": "markdown",
   "metadata": {},
   "source": [
    "### Construct the components of our percpetron."
   ]
  },
  {
   "cell_type": "code",
   "execution_count": 10,
   "metadata": {},
   "outputs": [],
   "source": [
    "### edTest(test_affine) ###\n",
    "\n",
    "# Function to perform affine transformation\n",
    "def affine(x, w, b):\n",
    "    \"\"\"Return affine transformation of x\n",
    "    \n",
    "    INPUTS\n",
    "    ======\n",
    "    x: A numpy array of points in x\n",
    "    w: A float representing the weight of the perceptron\n",
    "    b: A float representing the bias of the perceptron\n",
    "    \n",
    "    RETURN\n",
    "    ======\n",
    "    z: A numpy array of points after the affine transformation\n",
    "    \"\"\"\n",
    "    # This works for scalar values only\n",
    "    # Your code here\n",
    "    z = x * w + b\n",
    "    return z\n"
   ]
  },
  {
   "cell_type": "code",
   "execution_count": 11,
   "metadata": {},
   "outputs": [],
   "source": [
    "### edTest(test_sigmoid) ###\n",
    "\n",
    "# Function to apply sigmoid function on the parameter\n",
    "def sigmoid(z):\n",
    "    # Hint: numpy has an exponentiation function, np.exp()\n",
    "    \n",
    "    # Your code here\n",
    "    h = 1/(1+np.exp(-z))\n",
    "    return h\n"
   ]
  },
  {
   "cell_type": "code",
   "execution_count": 12,
   "metadata": {},
   "outputs": [],
   "source": [
    "### edTest(test_neuron_predict) ###\n",
    "\n",
    "# Function to combine the previous operations\n",
    "def neuron_predict(x, w, b):\n",
    "\n",
    "    # Call the previous functions\n",
    "    # Your code here\n",
    "    h = sigmoid(affine(x, w, b))\n",
    "    return h\n",
    "    "
   ]
  },
  {
   "cell_type": "markdown",
   "metadata": {},
   "source": [
    "### Manually set the weight and bias parameters. \n",
    "\n",
    "Recall from lecture that the weight changes the slope of the sigmoid and the bias shifts the function to the left or right."
   ]
  },
  {
   "cell_type": "code",
   "execution_count": 13,
   "metadata": {},
   "outputs": [],
   "source": [
    "# Hint: Try values between -1 and 1\n",
    "w = -1/2\n",
    "\n",
    "# Hint: Try values between 50 and 100\n",
    "b = 75\n"
   ]
  },
  {
   "cell_type": "markdown",
   "metadata": {},
   "source": [
    "#### Use the perceptron to make predictions and plot our results."
   ]
  },
  {
   "cell_type": "code",
   "execution_count": 14,
   "metadata": {},
   "outputs": [],
   "source": [
    "# The forward mode or predict of a single neuron\n",
    "\n",
    "# Create evenly spaced values of x to predict on\n",
    "x_linspace = np.linspace(x.min(),x.max(),500) \n",
    "h = neuron_predict(x_linspace,w, b)\n"
   ]
  },
  {
   "cell_type": "code",
   "execution_count": 15,
   "metadata": {},
   "outputs": [
    {
     "data": {
      "image/png": "[encoded data removed]",
      "text/plain": [
       "<Figure size 1100x700 with 1 Axes>"
      ]
     },
     "metadata": {},
     "output_type": "display_data"
    }
   ],
   "source": [
    "# Plot Predictions\n",
    "fig, ax = plt.subplots(1,1, figsize=(11,7))\n",
    "ax.scatter(x, y, label=r'Heart Data', alpha=0.2)\n",
    "ax.plot(x_linspace, h, lw=2, c='orange', label=r'Single Neuron')\n",
    "\n",
    "# First value in x_linspace with a probability < 0.5\n",
    "db = x_linspace[np.argmax(h<0.5)] \n",
    "ax.axvline(x=db, alpha=0.3, linestyle='-.', c='r', label='Decision Boundary')\n",
    "\n",
    "# Proper plot labels are very important!\n",
    "\n",
    "# Make the tick labels big enough to read\n",
    "ax.tick_params(labelsize=16)\n",
    "plt.xlabel('MaxHR', fontsize=16)\n",
    "plt.ylabel('Heart Disease (AHD)', fontsize=16)\n",
    "\n",
    "# Create a legend and make it big enough to read\n",
    "ax.legend(fontsize=16, loc='best') \n",
    "plt.show()\n"
   ]
  },
  {
   "cell_type": "markdown",
   "metadata": {},
   "source": [
    "One way to assess our perceptron model's performance is to look at the binary cross entropy loss."
   ]
  },
  {
   "cell_type": "code",
   "execution_count": 16,
   "metadata": {},
   "outputs": [],
   "source": [
    "def loss(y_true, y_pred, eps=1e-15):\n",
    "    assert y_true.shape[0] == y_pred.shape[0]\n",
    "    \n",
    "    # Clipping\n",
    "    y_pred = np.clip(y_pred, eps, 1 - eps)\n",
    "    # numpy.clip(a, a_min, a_max, out=None, **kwargs)\n",
    "    # Given an interval, values outside the interval are clipped to the interval edges.\n",
    "    return -sum(y_true*np.log(y_pred) + (1-y_true)*(np.log(1-y_pred)))"
   ]
  },
  {
   "cell_type": "code",
   "execution_count": 17,
   "metadata": {
    "scrolled": true
   },
   "outputs": [
    {
     "name": "stdout",
     "output_type": "stream",
     "text": [
      "693.0053846885196\n"
     ]
    }
   ],
   "source": [
    "## Print the loss of the single neuron model\n",
    "h = neuron_predict(x, w, b)\n",
    "print(loss(y, h))\n"
   ]
  },
  {
   "cell_type": "markdown",
   "metadata": {},
   "source": [
    "To ensure our perceptron model is not trivial we need to compare its accuracy to a baseline which always predicts the majority class (i.e., no heart disease). Play with your weights above and rerun the notebook until you can outperform the baseline."
   ]
  },
  {
   "cell_type": "code",
   "execution_count": 18,
   "metadata": {},
   "outputs": [],
   "source": [
    "def accuracy(y_true, y_pred):\n",
    "    assert y_true.shape[0] == y_pred.shape[0]\n",
    "    return sum(y_true == (y_pred >= 0.5).astype(int))/len(y_true)\n",
    "# !!!!!!\n",
    "    "
   ]
  },
  {
   "cell_type": "code",
   "execution_count": 19,
   "metadata": {},
   "outputs": [
    {
     "name": "stdout",
     "output_type": "stream",
     "text": [
      "Baseline Accuracy: 45.87%\n",
      "Perceptron Accuracy: 70.30%\n"
     ]
    }
   ],
   "source": [
    "### edTest(test_performance) ###\n",
    "\n",
    "# For the baseline predictions are all ones\n",
    "baseline_acc = accuracy(y, np.ones(len(y))) \n",
    "perceptron_acc = accuracy(y, h)\n",
    "print(f'Baseline Accuracy: {baseline_acc:.2%}')\n",
    "print(f'Perceptron Accuracy: {perceptron_acc:.2%}')\n"
   ]
  }
 ],
 "metadata": {
  "kernelspec": {
   "display_name": "Python 3 (ipykernel)",
   "language": "python",
   "name": "python3"
  },
  "language_info": {
   "codemirror_mode": {
    "name": "ipython",
    "version": 3
   },
   "file_extension": ".py",
   "mimetype": "text/x-python",
   "name": "python",
   "nbconvert_exporter": "python",
   "pygments_lexer": "ipython3",
   "version": "3.11.3"
  }
 },
 "nbformat": 4,
 "nbformat_minor": 4
}
